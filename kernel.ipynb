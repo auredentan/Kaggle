{
  "cells": [
    {
      "metadata": {
        "trusted": true,
        "_uuid": "43a8a4530dc3a1e188468d935d4c9a1477695a51",
        "collapsed": true
      },
      "cell_type": "code",
      "source": "import pandas as pd\n\ndf = pd.read_csv(\"../input/gun-violence-data_01-2013_03-2018.csv\")\ndf = df.dropna()\ndf.head()",
      "execution_count": null,
      "outputs": []
    },
    {
      "metadata": {
        "_uuid": "206375d5c4c65553fb52e3970fd3de5f873645de"
      },
      "cell_type": "markdown",
      "source": "# Kills geographic repartition"
    },
    {
      "metadata": {
        "trusted": true,
        "_uuid": "71670df9dace31a582ca387141644d1a98da497c",
        "collapsed": true
      },
      "cell_type": "code",
      "source": "killed = df.groupby('state', as_index=False).agg({'n_killed':'count', 'latitude':'mean', 'longitude':'mean'})\nkilled.head()",
      "execution_count": null,
      "outputs": []
    },
    {
      "metadata": {
        "trusted": true,
        "_uuid": "aa003305887f16a680de91a5394e29136ef8470c",
        "collapsed": true
      },
      "cell_type": "code",
      "source": "state_to_code = {'District of Columbia' : 'dc','Mississippi': 'MS', 'Oklahoma': 'OK', 'Delaware': 'DE', 'Minnesota': 'MN', 'Illinois': 'IL', 'Arkansas': 'AR', 'New Mexico': 'NM', 'Indiana': 'IN', 'Maryland': 'MD', 'Louisiana': 'LA', 'Idaho': 'ID', 'Wyoming': 'WY', 'Tennessee': 'TN', 'Arizona': 'AZ', 'Iowa': 'IA', 'Michigan': 'MI', 'Kansas': 'KS', 'Utah': 'UT', 'Virginia': 'VA', 'Oregon': 'OR', 'Connecticut': 'CT', 'Montana': 'MT', 'California': 'CA', 'Massachusetts': 'MA', 'West Virginia': 'WV', 'South Carolina': 'SC', 'New Hampshire': 'NH', 'Wisconsin': 'WI', 'Vermont': 'VT', 'Georgia': 'GA', 'North Dakota': 'ND', 'Pennsylvania': 'PA', 'Florida': 'FL', 'Alaska': 'AK', 'Kentucky': 'KY', 'Hawaii': 'HI', 'Nebraska': 'NE', 'Missouri': 'MO', 'Ohio': 'OH', 'Alabama': 'AL', 'Rhode Island': 'RI', 'South Dakota': 'SD', 'Colorado': 'CO', 'New Jersey': 'NJ', 'Washington': 'WA', 'North Carolina': 'NC', 'New York': 'NY', 'Texas': 'TX', 'Nevada': 'NV', 'Maine': 'ME'}\nkilled['code'] = killed['state'].apply(lambda x : state_to_code[x])\nkilled.head()",
      "execution_count": null,
      "outputs": []
    },
    {
      "metadata": {
        "trusted": true,
        "_uuid": "e4b498112d5fe88a9e10a86336d0f91b2958b097",
        "collapsed": true
      },
      "cell_type": "code",
      "source": "from plotly.offline import init_notebook_mode, iplot\ninit_notebook_mode(connected = True)\nimport pandas as pd\n\n\ndf = killed\nfor col in df.columns:\n    df[col] = df[col].astype(str)\n\nscl = [[0.0, 'rgb(242,240,247)'],[0.2, 'rgb(218,218,235)'],[0.4, 'rgb(188,189,220)'],\\\n            [0.6, 'rgb(158,154,200)'],[0.8, 'rgb(117,107,177)'],[1.0, 'rgb(84,39,143)']]\n\n\n\ndata = [ dict(\n        type='choropleth',\n        colorscale = scl,\n        autocolorscale = False,\n        locations = df['code'],\n        z = df['n_killed'].astype(float),\n        locationmode = 'USA-states',\n        text = df['state'],\n        marker = dict(\n            line = dict (\n                color = 'rgb(255,255,255)',\n                width = 2\n            ) ),\n        colorbar = dict(\n            title = \"Kill number\")\n        ) ]\n\nlayout = dict(\n        title = 'Number of kills for the month of March of 2013',\n        geo = dict(\n            scope='usa',\n            projection=dict( type='albers usa' ),\n            showlakes = True,\n            lakecolor = 'rgb(255, 255, 255)'),\n             )\n    \nfig = dict( data=data, layout=layout )\niplot(fig)",
      "execution_count": null,
      "outputs": []
    },
    {
      "metadata": {
        "_uuid": "9dec6fc1a255b78c2e812793f1c746d3b9841db1"
      },
      "cell_type": "markdown",
      "source": "# Gender distribution"
    },
    {
      "metadata": {
        "trusted": true,
        "_uuid": "0bb2716f1baba26789afde80c9bc7e3d81a651f1",
        "collapsed": true
      },
      "cell_type": "code",
      "source": "import pandas as pd\ndf = pd.read_csv(\"../input/gun-violence-data_01-2013_03-2018.csv\")\ndf.dropna()\ndf['participant_gender'].head()",
      "execution_count": null,
      "outputs": []
    },
    {
      "metadata": {
        "trusted": true,
        "collapsed": true,
        "_uuid": "076f2f61d5f5aaca966a9786ec13e06bddd24b35"
      },
      "cell_type": "code",
      "source": "def separate(df):\n    df=df.split(\"||\")\n    df=[(x.split(\"::\")) for x in df]\n    y = []\n    for  i in range (0, len(df)):\n        y.append(df[i][-1])\n    return(y) ",
      "execution_count": null,
      "outputs": []
    },
    {
      "metadata": {
        "trusted": true,
        "_uuid": "17d86f0f60b87722e81347e3bb201c8f80da9205",
        "scrolled": true,
        "collapsed": true
      },
      "cell_type": "code",
      "source": "df['participant_gender'] = df['participant_gender'].fillna(\"0::Zero\")\ndf['gender'] = df['participant_gender'].apply(lambda x: separate(x))\ndf['Males'] = df['gender'].apply(lambda x: x.count('Male'))\ndf['Females'] = df['gender'].apply(lambda x: x.count('Female'))\ngenders = df[['state', 'Males', 'Females']].groupby('state', as_index = False).sum()",
      "execution_count": null,
      "outputs": []
    },
    {
      "metadata": {
        "trusted": true,
        "_uuid": "9b2e52e0f106af83dfd1a91ba5ebdacd38ae4bd2",
        "collapsed": true
      },
      "cell_type": "code",
      "source": "import  plotly.plotly as py\nimport plotly.offline as py\npy.init_notebook_mode(connected=True)\nimport plotly.graph_objs as go\n\ntrace1 = go.Bar(\n    x=genders['state'],\n    y=genders['Males'],\n    name='Males'\n)\ntrace2 = go.Bar(\n    x=genders['state'],\n    y=genders['Females'],\n    name='Females'\n)\n\ndata = [trace1, trace2]\nlayout = go.Layout(\n    barmode='group'\n)\n\nfig = go.Figure(data=data, layout=layout)\npy.iplot(fig)",
      "execution_count": null,
      "outputs": []
    },
    {
      "metadata": {
        "_uuid": "97d895a847f2d87ec2e0f6024fee7db906903e82"
      },
      "cell_type": "markdown",
      "source": "# Age distribution\n\nLet's see if the age of the shooter is somehow related to his state"
    },
    {
      "metadata": {
        "trusted": true,
        "_uuid": "ee17cc49e4ad55e541071cc67692f08ce61176c0",
        "collapsed": true
      },
      "cell_type": "code",
      "source": "import pandas as pd\ndf = pd.read_csv(\"../input/gun-violence-data_01-2013_03-2018.csv\")\ndf = df.dropna()\ndf['participant_age'].head(10)",
      "execution_count": null,
      "outputs": []
    },
    {
      "metadata": {
        "trusted": true,
        "collapsed": true,
        "_uuid": "2c6f3478cdadeff76a35accc4ca1ffe147a132d8"
      },
      "cell_type": "code",
      "source": "import numpy as np\ndef separate_mean(df):\n    df=df.split(\"||\")\n    df=[(x.split(\"::\")) for x in df]\n    y = []\n    for  i in range (0, len(df)):\n        age = int(df[i][-1].split(':')[-1])\n        y.append(age)\n    return np.mean(y)",
      "execution_count": null,
      "outputs": []
    },
    {
      "metadata": {
        "trusted": true,
        "_uuid": "49be6da846adb040699c8eef6693da63c20781ab",
        "collapsed": true
      },
      "cell_type": "code",
      "source": "df['age'] = df['participant_age'].apply(lambda x: separate_mean(x))\nages = df[['state', 'age']].groupby('state', as_index=False).mean()\nages.head()",
      "execution_count": null,
      "outputs": []
    },
    {
      "metadata": {
        "trusted": true,
        "_uuid": "de87a1e613b0e7f2e1f609ada42945581810dcbd",
        "collapsed": true
      },
      "cell_type": "code",
      "source": "import altair as alt\nalt.renderers.enable('notebook')\nmean = str(np.mean(ages['age']))\nbar = alt.Chart(ages).mark_bar().encode(\n    x = 'state:N',\n    y = 'age:Q',\n)\nbar2 = alt.Chart(ages).mark_bar(color=\"#e45755\").encode(\n    x = 'state:N',\n    y = 'baseline:Q',\n    y2='age:Q'\n).transform_filter(\n    \"datum.age >= \"+mean\n).transform_calculate(\n    \"baseline\", mean\n)\nline = alt.Chart(ages).mark_rule(size = 2).encode(\n    y = 'mean(age):Q'\n)\ntext = alt.Chart(ages).mark_text(\n    align='left', dx=1160, dy=-1\n).encode(\n    alt.Y('mean(age):Q', axis=alt.Axis(title='Age')),\n    text=alt.value('Mean')\n)\n(bar + bar2 + line+text).properties(\n    width = 1200\n)",
      "execution_count": null,
      "outputs": []
    }
  ],
  "metadata": {
    "kernelspec": {
      "display_name": "Python 3",
      "language": "python",
      "name": "python3"
    },
    "language_info": {
      "name": "python",
      "version": "3.6.6",
      "mimetype": "text/x-python",
      "codemirror_mode": {
        "name": "ipython",
        "version": 3
      },
      "pygments_lexer": "ipython3",
      "nbconvert_exporter": "python",
      "file_extension": ".py"
    }
  },
  "nbformat": 4,
  "nbformat_minor": 1
}